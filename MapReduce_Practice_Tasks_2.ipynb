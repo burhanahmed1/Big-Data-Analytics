{
  "cells": [
    {
      "cell_type": "code",
      "source": [
        "!pip install mrjob"
      ],
      "metadata": {
        "colab": {
          "base_uri": "https://localhost:8080/"
        },
        "id": "VJ7U20Qo8r33",
        "outputId": "cf7cca43-354f-4c26-ac93-cee7b016fdb3"
      },
      "execution_count": 3,
      "outputs": [
        {
          "output_type": "stream",
          "name": "stdout",
          "text": [
            "Collecting mrjob\n",
            "  Downloading mrjob-0.7.4-py2.py3-none-any.whl (439 kB)\n",
            "\u001b[2K     \u001b[90m━━━━━━━━━━━━━━━━━━━━━━━━━━━━━━━━━━━━━━━━\u001b[0m \u001b[32m439.6/439.6 kB\u001b[0m \u001b[31m4.5 MB/s\u001b[0m eta \u001b[36m0:00:00\u001b[0m\n",
            "\u001b[?25hRequirement already satisfied: PyYAML>=3.10 in /usr/local/lib/python3.10/dist-packages (from mrjob) (6.0.1)\n",
            "Installing collected packages: mrjob\n",
            "Successfully installed mrjob-0.7.4\n"
          ]
        }
      ]
    },
    {
      "cell_type": "code",
      "execution_count": 1,
      "metadata": {
        "colab": {
          "base_uri": "https://localhost:8080/"
        },
        "id": "PhYuJLvG8cI3",
        "outputId": "f9e57271-aa77-424c-9265-269a6e01910c"
      },
      "outputs": [
        {
          "output_type": "stream",
          "name": "stdout",
          "text": [
            "Writing Q1.py\n"
          ]
        }
      ],
      "source": [
        "%%file Q1.py\n",
        "\n",
        "from mrjob.job import MRJob\n",
        "import sys\n",
        "import string\n",
        "\n",
        "print(\"Enter your phrase \")\n",
        "user_phrase = sys.stdin.readline().strip()\n",
        "\n",
        "class Shakespare(MRJob):\n",
        "    def mapper(self, _, line):\n",
        "        phrase,play_name = line.split(',')\n",
        "        if(user_phrase == phrase):\n",
        "            yield(phrase,play_name)\n",
        "\n",
        "    def reducer(self,key,value):\n",
        "        yield(key,list(value))\n",
        "\n",
        "\n",
        "if __name__ == '__main__':\n",
        "    Shakespare.run()"
      ]
    },
    {
      "cell_type": "code",
      "execution_count": 4,
      "metadata": {
        "colab": {
          "base_uri": "https://localhost:8080/"
        },
        "id": "Ou3xEfIu8cJE",
        "outputId": "2a236d07-a5ac-43b6-e648-00400b639ea6"
      },
      "outputs": [
        {
          "output_type": "stream",
          "name": "stdout",
          "text": [
            "Enter your phrase \n",
            "full circle\n",
            "No configs found; falling back on auto-configuration\n",
            "No configs specified for inline runner\n",
            "Creating temp directory /tmp/Q1.root.20240628.082613.804102\n",
            "Running step 1 of 1...\n",
            "job output is in /tmp/Q1.root.20240628.082613.804102/output\n",
            "Streaming final output from /tmp/Q1.root.20240628.082613.804102/output...\n",
            "\"full circle\"\t[\"strange bedfellows\"]\n",
            "Removing temp directory /tmp/Q1.root.20240628.082613.804102...\n"
          ]
        }
      ],
      "source": [
        "!python Q1.py Shakespare.txt"
      ]
    },
    {
      "cell_type": "code",
      "execution_count": null,
      "metadata": {
        "id": "5pQ_YHPN8cJF",
        "outputId": "01609f76-5b9b-4554-c4e3-90a27b1c05c5"
      },
      "outputs": [
        {
          "name": "stdout",
          "output_type": "stream",
          "text": [
            "Overwriting Q2.py\n"
          ]
        }
      ],
      "source": [
        "%%file Q2.py\n",
        "\n",
        "from mrjob.job import MRJob\n",
        "\n",
        "class matrix(MRJob):\n",
        "    def mapper(self, _, line):\n",
        "        word=line.split()\n",
        "        for i in range(len(word)):\n",
        "            for j in range(len(word)):\n",
        "                if i == j+1:\n",
        "                    yield (word[i],word[j]), 1\n",
        "                else:\n",
        "                    yield (word[i],word[j]), 0\n",
        "\n",
        "\n",
        "    def reducer(self,key,value):\n",
        "        yield(key,sum(value))\n",
        "\n",
        "\n",
        "if __name__ == '__main__':\n",
        "    matrix.run()"
      ]
    },
    {
      "cell_type": "code",
      "execution_count": null,
      "metadata": {
        "id": "IilcfddW8cJG",
        "outputId": "a16ca52f-adbc-4ebd-93ee-641148a6204b"
      },
      "outputs": [
        {
          "name": "stdout",
          "output_type": "stream",
          "text": [
            "[\"I\",\"I\"]\t0\n",
            "[\"I\",\"NLP\"]\t0\n",
            "[\"I\",\"deep\"]\t0\n",
            "[\"I\",\"enjoying\"]\t0\n",
            "[\"I\",\"flying\"]\t0\n",
            "[\"I\",\"learning\"]\t0\n",
            "[\"I\",\"like\"]\t0\n",
            "[\"NLP\",\"I\"]\t0\n",
            "[\"NLP\",\"NLP\"]\t0\n",
            "[\"NLP\",\"like\"]\t1\n",
            "[\"deep\",\"I\"]\t0\n",
            "[\"deep\",\"deep\"]\t0\n",
            "[\"deep\",\"learning\"]\t0\n",
            "[\"deep\",\"like\"]\t1\n",
            "[\"enjoying\",\"I\"]\t1\n",
            "[\"enjoying\",\"enjoying\"]\t0\n",
            "[\"enjoying\",\"flying\"]\t0\n",
            "[\"flying\",\"I\"]\t0\n",
            "[\"flying\",\"enjoying\"]\t1\n",
            "[\"flying\",\"flying\"]\t0\n",
            "[\"learning\",\"I\"]\t0\n",
            "[\"learning\",\"deep\"]\t1\n",
            "[\"learning\",\"learning\"]\t0\n",
            "[\"learning\",\"like\"]\t0\n",
            "[\"like\",\"I\"]\t2\n",
            "[\"like\",\"NLP\"]\t0\n",
            "[\"like\",\"deep\"]\t0\n",
            "[\"like\",\"learning\"]\t0\n",
            "[\"like\",\"like\"]\t0\n"
          ]
        },
        {
          "name": "stderr",
          "output_type": "stream",
          "text": [
            "No configs found; falling back on auto-configuration\n",
            "No configs specified for inline runner\n",
            "Creating temp directory C:\\Users\\pakistan\\AppData\\Local\\Temp\\Q2.pakistan.20240628.081512.675970\n",
            "Running step 1 of 1...\n",
            "job output is in C:\\Users\\pakistan\\AppData\\Local\\Temp\\Q2.pakistan.20240628.081512.675970\\output\n",
            "Streaming final output from C:\\Users\\pakistan\\AppData\\Local\\Temp\\Q2.pakistan.20240628.081512.675970\\output...\n",
            "Removing temp directory C:\\Users\\pakistan\\AppData\\Local\\Temp\\Q2.pakistan.20240628.081512.675970...\n"
          ]
        }
      ],
      "source": [
        "!python Q2.py Data.txt"
      ]
    }
  ],
  "metadata": {
    "kernelspec": {
      "display_name": "base",
      "language": "python",
      "name": "python3"
    },
    "language_info": {
      "codemirror_mode": {
        "name": "ipython",
        "version": 3
      },
      "file_extension": ".py",
      "mimetype": "text/x-python",
      "name": "python",
      "nbconvert_exporter": "python",
      "pygments_lexer": "ipython3",
      "version": "3.11.7"
    },
    "colab": {
      "provenance": []
    }
  },
  "nbformat": 4,
  "nbformat_minor": 0
}