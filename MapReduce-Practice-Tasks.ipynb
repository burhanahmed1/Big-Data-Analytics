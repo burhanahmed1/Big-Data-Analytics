{
 "cells": [
  {
   "cell_type": "markdown",
   "metadata": {},
   "source": [
    "## **Q No 1 :**\n",
    "Write a map-reduce code to count Words in a file using MRJob library. Write a mapperfunction\n",
    "as well as reducer function."
   ]
  },
  {
   "cell_type": "code",
   "execution_count": 9,
   "metadata": {},
   "outputs": [
    {
     "name": "stdout",
     "output_type": "stream",
     "text": [
      "Overwriting PracQ3.py\n"
     ]
    }
   ],
   "source": [
    "%%file PracQ3.py\n",
    "\n",
    "from mrjob.job import MRJob\n",
    "class WordCount(MRJob):\n",
    "    def mapper(self, _, line):\n",
    "        for word in line.strip().split(','):\n",
    "            yield(word,1)\n",
    "    \n",
    "    def reducer(self,word,counts):\n",
    "                yield(word,sum(counts))\n",
    "                \n",
    "if __name__ == '__main__':\n",
    "    WordCount.run()"
   ]
  },
  {
   "cell_type": "code",
   "execution_count": 10,
   "metadata": {},
   "outputs": [
    {
     "name": "stdout",
     "output_type": "stream",
     "text": [
      "\"12-3-20\"\t1\n",
      "\"14-4-22\"\t1\n",
      "\"20-4-22\"\t3\n",
      "\"Ali\"\t2\n",
      "\"Amina\"\t1\n",
      "\"Fahad\"\t1\n",
      "\"S1\"\t5\n",
      "\"S2\"\t3\n",
      "\"S3\"\t2\n",
      "\"S7\"\t2\n",
      "\"S9\"\t1\n",
      "\"Sara\"\t1\n"
     ]
    },
    {
     "name": "stderr",
     "output_type": "stream",
     "text": [
      "No configs found; falling back on auto-configuration\n",
      "No configs specified for inline runner\n",
      "Creating temp directory C:\\Users\\pakistan\\AppData\\Local\\Temp\\PracQ3.pakistan.20240216.070850.647942\n",
      "Running step 1 of 1...\n",
      "job output is in C:\\Users\\pakistan\\AppData\\Local\\Temp\\PracQ3.pakistan.20240216.070850.647942\\output\n",
      "Streaming final output from C:\\Users\\pakistan\\AppData\\Local\\Temp\\PracQ3.pakistan.20240216.070850.647942\\output...\n",
      "Removing temp directory C:\\Users\\pakistan\\AppData\\Local\\Temp\\PracQ3.pakistan.20240216.070850.647942...\n"
     ]
    }
   ],
   "source": [
    "!python PracQ3.py MusicData.txt"
   ]
  },
  {
   "cell_type": "markdown",
   "metadata": {},
   "source": [
    "## **Q No 2 :**\n",
    "Display How many words start with each alphabet in a text file by making map andreduce\n",
    "functions separately."
   ]
  },
  {
   "cell_type": "code",
   "execution_count": 17,
   "metadata": {},
   "outputs": [
    {
     "name": "stdout",
     "output_type": "stream",
     "text": [
      "Overwriting PracQ4.py\n"
     ]
    }
   ],
   "source": [
    "%%file PracQ4.py\n",
    "from mrjob.job import MRJob\n",
    "class wordCountLetters(MRJob):\n",
    "    def mapper(self, _, line):\n",
    "        for word in line.strip().split(','):\n",
    "            yield(word[0].lower(),1)\n",
    "    \n",
    "    def reducer(self,key,counts):\n",
    "        yield(key,sum(counts))\n",
    "        \n",
    "if __name__ == '__main__':\n",
    "    wordCountLetters.run()"
   ]
  },
  {
   "cell_type": "code",
   "execution_count": 18,
   "metadata": {},
   "outputs": [
    {
     "name": "stdout",
     "output_type": "stream",
     "text": [
      "\"1\"\t2\n",
      "\"2\"\t3\n",
      "\"a\"\t3\n",
      "\"f\"\t1\n",
      "\"s\"\t14\n"
     ]
    },
    {
     "name": "stderr",
     "output_type": "stream",
     "text": [
      "No configs found; falling back on auto-configuration\n",
      "No configs specified for inline runner\n",
      "Creating temp directory C:\\Users\\pakistan\\AppData\\Local\\Temp\\PracQ4.pakistan.20240216.142537.381216\n",
      "Running step 1 of 1...\n",
      "job output is in C:\\Users\\pakistan\\AppData\\Local\\Temp\\PracQ4.pakistan.20240216.142537.381216\\output\n",
      "Streaming final output from C:\\Users\\pakistan\\AppData\\Local\\Temp\\PracQ4.pakistan.20240216.142537.381216\\output...\n",
      "Removing temp directory C:\\Users\\pakistan\\AppData\\Local\\Temp\\PracQ4.pakistan.20240216.142537.381216...\n"
     ]
    }
   ],
   "source": [
    "!python PracQ4.py MusicData.txt"
   ]
  },
  {
   "cell_type": "markdown",
   "metadata": {},
   "source": [
    "## **Q No 3 :**\n",
    "Count all words of length 5 from a text file and display them on a screen using mapperand\n",
    "reducers."
   ]
  },
  {
   "cell_type": "code",
   "execution_count": 17,
   "metadata": {},
   "outputs": [
    {
     "name": "stdout",
     "output_type": "stream",
     "text": [
      "Overwriting PracQ5.py\n"
     ]
    }
   ],
   "source": [
    "%%file PracQ5.py\n",
    "from mrjob.job import MRJob\n",
    "class wordCount5(MRJob):\n",
    "    def mapper(self, _, line):\n",
    "        words = line.strip().split(',')\n",
    "        for word in words:\n",
    "            if (len(word)==5):\n",
    "                yield(word,1)\n",
    "                \n",
    "    def reducer(self,key,values):\n",
    "        yield(key,sum(values))\n",
    "        \n",
    "if __name__ == '__main__':\n",
    "    wordCount5.run()\n",
    "            "
   ]
  },
  {
   "cell_type": "code",
   "execution_count": 18,
   "metadata": {},
   "outputs": [
    {
     "name": "stdout",
     "output_type": "stream",
     "text": [
      "\"Amina\"\t1\n",
      "\"Fahad\"\t1\n"
     ]
    },
    {
     "name": "stderr",
     "output_type": "stream",
     "text": [
      "No configs found; falling back on auto-configuration\n",
      "No configs specified for inline runner\n",
      "Creating temp directory C:\\Users\\pakistan\\AppData\\Local\\Temp\\PracQ5.pakistan.20240216.073017.894347\n",
      "Running step 1 of 1...\n",
      "job output is in C:\\Users\\pakistan\\AppData\\Local\\Temp\\PracQ5.pakistan.20240216.073017.894347\\output\n",
      "Streaming final output from C:\\Users\\pakistan\\AppData\\Local\\Temp\\PracQ5.pakistan.20240216.073017.894347\\output...\n",
      "Removing temp directory C:\\Users\\pakistan\\AppData\\Local\\Temp\\PracQ5.pakistan.20240216.073017.894347...\n"
     ]
    }
   ],
   "source": [
    "!python PracQ5.py MusicData.txt"
   ]
  },
  {
   "cell_type": "markdown",
   "metadata": {},
   "source": [
    "## **Q No 4 :**\n",
    "Write a map-only job to list the name of users who have played more than 5 songs in a day."
   ]
  },
  {
   "cell_type": "code",
   "execution_count": 1,
   "metadata": {},
   "outputs": [
    {
     "name": "stdout",
     "output_type": "stream",
     "text": [
      "Overwriting Q1.py\n"
     ]
    }
   ],
   "source": [
    "%%file Q1.py\n",
    "from mrjob.job import MRJob\n",
    "class UserNames(MRJob):\n",
    "    def mapper(self, _, line):\n",
    "        user,date,songs = line.strip().split(',',2)\n",
    "        num_songs=len(songs.split(','))\n",
    "        if num_songs>5:\n",
    "            yield(user.strip(),num_songs)\n",
    "            \n",
    "if __name__ == '__main__':\n",
    "    UserNames.run()"
   ]
  },
  {
   "cell_type": "code",
   "execution_count": 2,
   "metadata": {},
   "outputs": [
    {
     "name": "stderr",
     "output_type": "stream",
     "text": [
      "No configs found; falling back on auto-configuration\n",
      "No configs specified for inline runner\n",
      "Creating temp directory C:\\Users\\pakistan\\AppData\\Local\\Temp\\Q1.pakistan.20240218.074631.844383\n",
      "Running step 1 of 1...\n",
      "job output is in C:\\Users\\pakistan\\AppData\\Local\\Temp\\Q1.pakistan.20240218.074631.844383\\output\n",
      "Streaming final output from C:\\Users\\pakistan\\AppData\\Local\\Temp\\Q1.pakistan.20240218.074631.844383\\output...\n",
      "Removing temp directory C:\\Users\\pakistan\\AppData\\Local\\Temp\\Q1.pakistan.20240218.074631.844383...\n"
     ]
    }
   ],
   "source": [
    "!python Q1.py MusicData.txt"
   ]
  },
  {
   "cell_type": "markdown",
   "metadata": {},
   "source": [
    "## **Q No 5 :**\n",
    "Write a map-only job to list the name of users, the date, and the number of songs played on that\n",
    "day."
   ]
  },
  {
   "cell_type": "code",
   "execution_count": 27,
   "metadata": {},
   "outputs": [
    {
     "name": "stdout",
     "output_type": "stream",
     "text": [
      "Overwriting Q2.py\n"
     ]
    }
   ],
   "source": [
    "%%file Q2.py\n",
    "from mrjob.job import MRJob\n",
    "class NumSongs(MRJob):\n",
    "    def mapper(self, _, line):\n",
    "        user,date,songs = line.strip().split(',',2)\n",
    "        num_songs = len(songs.split(','))\n",
    "        yield((user,date),num_songs)\n",
    "    \n",
    "if __name__ == '__main__':\n",
    "    NumSongs.run()"
   ]
  },
  {
   "cell_type": "code",
   "execution_count": 28,
   "metadata": {},
   "outputs": [
    {
     "name": "stdout",
     "output_type": "stream",
     "text": [
      "[\"Ali\", \"12-3-20\"]\t3\n",
      "[\"Fahad\", \"14-4-22\"]\t4\n",
      "[\"Ali\", \"20-4-22\"]\t2\n",
      "[\"Sara\", \"20-4-22\"]\t3\n",
      "[\"Amina\", \"20-4-22\"]\t1\n"
     ]
    },
    {
     "name": "stderr",
     "output_type": "stream",
     "text": [
      "No configs found; falling back on auto-configuration\n",
      "No configs specified for inline runner\n",
      "Creating temp directory C:\\Users\\pakistan\\AppData\\Local\\Temp\\Q2.pakistan.20240216.080431.652633\n",
      "Running step 1 of 1...\n",
      "job output is in C:\\Users\\pakistan\\AppData\\Local\\Temp\\Q2.pakistan.20240216.080431.652633\\output\n",
      "Streaming final output from C:\\Users\\pakistan\\AppData\\Local\\Temp\\Q2.pakistan.20240216.080431.652633\\output...\n",
      "Removing temp directory C:\\Users\\pakistan\\AppData\\Local\\Temp\\Q2.pakistan.20240216.080431.652633...\n"
     ]
    }
   ],
   "source": [
    "!python Q2.py MusicData.txt"
   ]
  },
  {
   "cell_type": "markdown",
   "metadata": {},
   "source": [
    "## **Q No 6 :**\n",
    "Write a map-reduce job to list the number of songs played by each user up till now. Also, add a\n",
    "combiner."
   ]
  },
  {
   "cell_type": "code",
   "execution_count": 29,
   "metadata": {},
   "outputs": [
    {
     "name": "stdout",
     "output_type": "stream",
     "text": [
      "Writing Q3.py\n"
     ]
    }
   ],
   "source": [
    "%%file Q3.py\n",
    "from mrjob.job import MRJob\n",
    "class NumSongs(MRJob):\n",
    "    def mapper(self, _, line):\n",
    "        user,date,songs = line.strip().split(',',2)\n",
    "        num_songs=len(songs.split(','))\n",
    "        yield(user.strip(),num_songs)\n",
    "        \n",
    "    def combiner(self,user,counts):\n",
    "        yield(user,sum(counts))\n",
    "        \n",
    "    def reducer(self,user,counts):\n",
    "        yield(user,sum(counts))\n",
    "        \n",
    "if __name__ == '__main__':\n",
    "    NumSongs.run()"
   ]
  },
  {
   "cell_type": "code",
   "execution_count": 30,
   "metadata": {},
   "outputs": [
    {
     "name": "stdout",
     "output_type": "stream",
     "text": [
      "\"Ali\"\t5\n",
      "\"Amina\"\t1\n",
      "\"Fahad\"\t4\n",
      "\"Sara\"\t3\n"
     ]
    },
    {
     "name": "stderr",
     "output_type": "stream",
     "text": [
      "No configs found; falling back on auto-configuration\n",
      "No configs specified for inline runner\n",
      "Creating temp directory C:\\Users\\pakistan\\AppData\\Local\\Temp\\Q3.pakistan.20240216.083956.571231\n",
      "Running step 1 of 1...\n",
      "job output is in C:\\Users\\pakistan\\AppData\\Local\\Temp\\Q3.pakistan.20240216.083956.571231\\output\n",
      "Streaming final output from C:\\Users\\pakistan\\AppData\\Local\\Temp\\Q3.pakistan.20240216.083956.571231\\output...\n",
      "Removing temp directory C:\\Users\\pakistan\\AppData\\Local\\Temp\\Q3.pakistan.20240216.083956.571231...\n"
     ]
    }
   ],
   "source": [
    "!python Q3.py MusicData.txt"
   ]
  },
  {
   "cell_type": "markdown",
   "metadata": {},
   "source": [
    "## **Q No 7 :**\n",
    "Write a map-reduce to find the average number of songs played daily. Also, add a combiner. For the\n",
    "above data, the average no of songs would be = (3+4+2+3+1)/5"
   ]
  },
  {
   "cell_type": "code",
   "execution_count": 3,
   "metadata": {},
   "outputs": [
    {
     "name": "stdout",
     "output_type": "stream",
     "text": [
      "Overwriting Q4.py\n"
     ]
    }
   ],
   "source": [
    "%%file Q4.py\n",
    "from mrjob.job import MRJob\n",
    "\n",
    "class DailyAverageSongs(MRJob):\n",
    "\n",
    "    def __init__(self, *args, **kwargs):\n",
    "        super(AverageSongsPlayedDaily, self).__init__(*args, **kwargs)\n",
    "        # Initialize a dictionary to store the total count of records for each day\n",
    "        self.total_records_per_day = {}\n",
    "\n",
    "    def mapper(self, _, line):\n",
    "        _, date, songs = line.strip().split(',', 2)\n",
    "        yield date.strip(), 1\n",
    "\n",
    "    def combiner(self, date, counts):\n",
    "        total_records = sum(counts)\n",
    "        yield date, total_records\n",
    "\n",
    "    def reducer(self, date, counts):\n",
    "        total_records = sum(counts)\n",
    "        self.total_records_per_day[date] = total_records\n",
    "\n",
    "    def reducer_final(self):\n",
    "        for date, total_records in self.total_records_per_day.items():\n",
    "            if total_records == 0:\n",
    "                average_songs_daily = 0\n",
    "            else:\n",
    "                average_songs_daily = total_records\n",
    "            yield date, average_songs_daily\n",
    "\n",
    "if __name__ == '__main__':\n",
    "    DailyAverageSongs.run()\n",
    " "
   ]
  },
  {
   "cell_type": "code",
   "execution_count": null,
   "metadata": {},
   "outputs": [],
   "source": [
    "!python Q4.py MusicData.txt"
   ]
  },
  {
   "cell_type": "markdown",
   "metadata": {},
   "source": [
    "## **Q No 8 :**\n",
    "Write a map-reduce to find the number of times each song was played. Also, add a combiner."
   ]
  },
  {
   "cell_type": "code",
   "execution_count": 5,
   "metadata": {},
   "outputs": [
    {
     "name": "stdout",
     "output_type": "stream",
     "text": [
      "Writing Q5.py\n"
     ]
    }
   ],
   "source": [
    "%%file Q5.py\n",
    "from mrjob.job import MRJob\n",
    "\n",
    "class SongCount(MRJob):\n",
    "\n",
    "    def mapper(self, _, line):\n",
    "        _, _, songs = line.strip().split(',', 2)\n",
    "        for song in songs.split(','):\n",
    "            yield song.strip(), 1\n",
    "\n",
    "    def combiner(self, song, counts):\n",
    "        total_count = sum(counts)\n",
    "        yield song, total_count\n",
    "\n",
    "    def reducer(self, song, counts):\n",
    "        total_count = sum(counts)\n",
    "        yield song, total_count\n",
    "\n",
    "if __name__ == '__main__':\n",
    "    SongCount.run()"
   ]
  },
  {
   "cell_type": "code",
   "execution_count": 6,
   "metadata": {},
   "outputs": [
    {
     "name": "stdout",
     "output_type": "stream",
     "text": [
      "\"S1\"\t5\n",
      "\"S2\"\t3\n",
      "\"S3\"\t2\n",
      "\"S7\"\t2\n",
      "\"S9\"\t1\n"
     ]
    },
    {
     "name": "stderr",
     "output_type": "stream",
     "text": [
      "No configs found; falling back on auto-configuration\n",
      "No configs specified for inline runner\n",
      "Creating temp directory C:\\Users\\pakistan\\AppData\\Local\\Temp\\Q5.pakistan.20240220.161232.248468\n",
      "Running step 1 of 1...\n",
      "job output is in C:\\Users\\pakistan\\AppData\\Local\\Temp\\Q5.pakistan.20240220.161232.248468\\output\n",
      "Streaming final output from C:\\Users\\pakistan\\AppData\\Local\\Temp\\Q5.pakistan.20240220.161232.248468\\output...\n",
      "Removing temp directory C:\\Users\\pakistan\\AppData\\Local\\Temp\\Q5.pakistan.20240220.161232.248468...\n"
     ]
    }
   ],
   "source": [
    "!python Q5.py MusicData.txt"
   ]
  },
  {
   "cell_type": "markdown",
   "metadata": {},
   "source": [
    "## **Q No 9 :**\n",
    "\\Write a map-reduce to find the names of the users who have played the maximum number of\n",
    "songs in a day. Also, add a combiner."
   ]
  },
  {
   "cell_type": "code",
   "execution_count": 7,
   "metadata": {},
   "outputs": [
    {
     "name": "stdout",
     "output_type": "stream",
     "text": [
      "Writing Q6.py\n"
     ]
    }
   ],
   "source": [
    "%%file Q6.py\n",
    "from mrjob.job import MRJob\n",
    "\n",
    "class MaxSongsPlayed(MRJob):\n",
    "\n",
    "    def mapper(self, _, line):\n",
    "        user, date, *songs = line.strip().split(',')\n",
    "        for song in songs:\n",
    "            yield (date, user), 1\n",
    "\n",
    "    def combiner(self, key, values):\n",
    "        yield key, sum(values)\n",
    "\n",
    "    def reducer(self, key, values):\n",
    "        yield key, sum(values)\n",
    "\n",
    "if __name__ == '__main__':\n",
    "    MaxSongsPlayed.run()\n",
    "\n"
   ]
  },
  {
   "cell_type": "code",
   "execution_count": 8,
   "metadata": {},
   "outputs": [
    {
     "name": "stdout",
     "output_type": "stream",
     "text": [
      "[\"12-3-20\", \"Ali\"]\t3\n",
      "[\"14-4-22\", \"Fahad\"]\t4\n",
      "[\"20-4-22\", \"Ali\"]\t2\n",
      "[\"20-4-22\", \"Amina\"]\t1\n",
      "[\"20-4-22\", \"Sara\"]\t3\n"
     ]
    },
    {
     "name": "stderr",
     "output_type": "stream",
     "text": [
      "No configs found; falling back on auto-configuration\n",
      "No configs specified for inline runner\n",
      "Creating temp directory C:\\Users\\pakistan\\AppData\\Local\\Temp\\Q6.pakistan.20240220.161331.044305\n",
      "Running step 1 of 1...\n",
      "job output is in C:\\Users\\pakistan\\AppData\\Local\\Temp\\Q6.pakistan.20240220.161331.044305\\output\n",
      "Streaming final output from C:\\Users\\pakistan\\AppData\\Local\\Temp\\Q6.pakistan.20240220.161331.044305\\output...\n",
      "Removing temp directory C:\\Users\\pakistan\\AppData\\Local\\Temp\\Q6.pakistan.20240220.161331.044305...\n"
     ]
    }
   ],
   "source": [
    "!python Q6.py MusicData.txt"
   ]
  },
  {
   "cell_type": "markdown",
   "metadata": {},
   "source": [
    "## **Q No 10 :**\n",
    "Write a map-reduce to find the names of the users who have played the maximum number of\n",
    "songs up till now. Also, add a combiner."
   ]
  },
  {
   "cell_type": "code",
   "execution_count": null,
   "metadata": {},
   "outputs": [],
   "source": [
    "%%file Q7.py\n",
    "from mrjob.job import MRJob\n",
    "from mrjob.step import MRStep\n",
    "\n",
    "class MaxSongsPlayed(MRJob):\n",
    "\n",
    "    def mapper(self, key, line):\n",
    "        user, date, *songs = line.strip().split(',')\n",
    "        yield (date, user), len(songs)\n",
    "\n",
    "    def combiner(self, key, values):\n",
    "        yield key, sum(values)\n",
    "\n",
    "    def reducer(self, key, values):\n",
    "        max_songs = max(values)\n",
    "        max_songs_users = [user for user, songs in values if songs == max_songs]\n",
    "        yield None, (max_songs, max_songs_users)\n",
    "\n",
    "    def steps(self):\n",
    "        return [\n",
    "            MRStep(mapper=self.mapper,\n",
    "                   combiner=self.combiner,\n",
    "                   reducer=self.reducer),\n",
    "        ]\n",
    "\n",
    "if __name__ == '__main__':\n",
    "    MaxSongsPlayed.run()\n"
   ]
  },
  {
   "cell_type": "code",
   "execution_count": null,
   "metadata": {},
   "outputs": [],
   "source": [
    "!python Q7.py MusicData.txt"
   ]
  },
  {
   "cell_type": "markdown",
   "metadata": {},
   "source": [
    "## Q No 11\n",
    "Write a map-reduce to find the names of the users who have played the maximum number of\n",
    "songs in a day. Also, add a combiner."
   ]
  },
  {
   "cell_type": "code",
   "execution_count": null,
   "metadata": {},
   "outputs": [],
   "source": [
    "%%file Q8.py\n",
    "from mrjob.job import MRJob\n",
    "from mrjob.step import MRStep\n",
    "\n",
    "class MaxSongsPerUserPerDay(MRJob):\n",
    "\n",
    "    def mapper(self, key, line):\n",
    "        user, date, songs = line.strip().split(',')\n",
    "        for song in songs.split():\n",
    "            yield (date, user), 1\n",
    "\n",
    "    def combiner(self, key, values):\n",
    "        yield key, sum(values)\n",
    "\n",
    "    def reducer(self, key, values):\n",
    "        max_songs = max(values)\n",
    "        max_users = [user for user, songs in values if songs == max_songs]\n",
    "        for user in max_users:\n",
    "            yield (key[0], user), max_songs\n",
    "\n",
    "    def steps(self):\n",
    "        return [\n",
    "            MRStep(mapper=self.mapper,\n",
    "                   combiner=self.combiner,\n",
    "                   reducer=self.reducer),\n",
    "        ]\n",
    "\n",
    "if __name__ == '__main__':\n",
    "    MaxSongsPerUserPerDay.run()"
   ]
  },
  {
   "cell_type": "code",
   "execution_count": null,
   "metadata": {},
   "outputs": [],
   "source": [
    "!python Q8.py MusicData.txt"
   ]
  }
 ],
 "metadata": {
  "kernelspec": {
   "display_name": "Python 3",
   "language": "python",
   "name": "python3"
  },
  "language_info": {
   "codemirror_mode": {
    "name": "ipython",
    "version": 3
   },
   "file_extension": ".py",
   "mimetype": "text/x-python",
   "name": "python",
   "nbconvert_exporter": "python",
   "pygments_lexer": "ipython3",
   "version": "3.12.2"
  }
 },
 "nbformat": 4,
 "nbformat_minor": 2
}
