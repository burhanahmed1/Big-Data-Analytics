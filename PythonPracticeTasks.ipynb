{
 "cells": [
  {
   "cell_type": "code",
   "execution_count": 13,
   "metadata": {},
   "outputs": [
    {
     "name": "stdout",
     "output_type": "stream",
     "text": [
      "********\n",
      "*      *\n",
      "*      *\n",
      "*      *\n",
      "*      *\n",
      "*      *\n",
      "********\n"
     ]
    }
   ],
   "source": [
    "#Task 1\n",
    "\n",
    "def print_pattern(shape):\n",
    "    if shape == \"Triangle\":\n",
    "        # Print triangle pattern\n",
    "        j=5\n",
    "        for i in range(1, 6):\n",
    "            print(\" \"*j,\"* \" * i)\n",
    "            j=j-1\n",
    "    elif shape == \"Rectangle\":\n",
    "        # Print rectangle pattern\n",
    "        print(\"*\"*8)\n",
    "        for i in range(0,6):\n",
    "            if (i==0 | i==5):\n",
    "                print(\"*\"*8)\n",
    "            else:\n",
    "                print(\"*\",\" \"*4,\"*\")\n",
    "    return\n",
    "    \n",
    "\n",
    "# Take input from the user\n",
    "choice = input(\"Enter 1 for Triangle or 2 for Rectangle: \")\n",
    "\n",
    "# Check the user's choice and call the function accordingly\n",
    "if choice == \"1\":\n",
    "    print_pattern(\"Triangle\")\n",
    "elif choice == \"2\":\n",
    "    print_pattern(\"Rectangle\")\n",
    "else:\n",
    "    print(\"Invalid choice. Please enter 1 for Triangle or 2 for Rectangle.\")\n"
   ]
  },
  {
   "cell_type": "code",
   "execution_count": 31,
   "metadata": {},
   "outputs": [
    {
     "name": "stdout",
     "output_type": "stream",
     "text": [
      "{'Country': 'Pakistan', 'City': 'Lahore', 'NA': '125'}\n",
      "\n",
      "\n",
      "Pakistan\n",
      "Lahore\n",
      "125\n",
      "\n",
      "\n",
      "Lahore\n",
      "\n",
      "\n",
      "Multan\n",
      "\n",
      "\n",
      "Length of dictionary :  3\n",
      "\n",
      "\n",
      "(1, 2, 3, 4, 5)\n",
      "\n",
      "\n",
      "Length of tuple :  5\n",
      "\n",
      "\n",
      "Check if 3 is present in tuple:  True\n",
      "\n",
      "\n",
      "Element of tuple :  4\n"
     ]
    }
   ],
   "source": [
    "#Task 2\n",
    "\n",
    "capital_city = {\"Country\": \"Pakistan\", \"City\": \"Lahore\", \"NA\": \"125\"}\n",
    "print(capital_city)\n",
    "\n",
    "print(\"\\n\")\n",
    "print(capital_city['Country'])\n",
    "print(capital_city['City'])\n",
    "print(capital_city['NA'])\n",
    "\n",
    "value=capital_city.get('City')\n",
    "print(\"\\n\")\n",
    "print(value)\n",
    "\n",
    "capital_city[\"City\"]='Multan'\n",
    "print(\"\\n\")\n",
    "print(capital_city['City'])\n",
    "\n",
    "length=len(capital_city)\n",
    "print(\"\\n\")\n",
    "print(\"Length of dictionary : \",length)\n",
    "\n",
    "my_tuple = (1, 2, 3, 4, 5)\n",
    "print(\"\\n\")\n",
    "print(my_tuple)\n",
    "\n",
    "length1=len(my_tuple)\n",
    "print(\"\\n\")\n",
    "print(\"Length of tuple : \",length1)\n",
    "\n",
    "print(\"\\n\")\n",
    "print(\"Check if 3 is present in tuple: \",3 in my_tuple)\n",
    "\n",
    "print(\"\\n\")\n",
    "print(\"Element of tuple : \",my_tuple[3])\n"
   ]
  },
  {
   "cell_type": "code",
   "execution_count": 34,
   "metadata": {},
   "outputs": [
    {
     "name": "stdout",
     "output_type": "stream",
     "text": [
      "The Volume of rod is :  63.302\n"
     ]
    }
   ],
   "source": [
    "#Task 3\n",
    "\n",
    "r=float(input(\"Enter a radius of rod : \"))\n",
    "h=float(input(\"Enter a height of rod : \"))\n",
    "V=3.14*(r*r)*h\n",
    "rounded_V=round(V,3)\n",
    "print(\"The Volume of rod is : \",rounded_V)"
   ]
  },
  {
   "cell_type": "code",
   "execution_count": 3,
   "metadata": {},
   "outputs": [
    {
     "name": "stdout",
     "output_type": "stream",
     "text": [
      "Result: 105\n"
     ]
    }
   ],
   "source": [
    "#Task 4\n",
    "def Oper(operation, num1, num2):\n",
    "    if operation == \"add\":\n",
    "        return num1 + num2\n",
    "    elif operation == \"subtract\":\n",
    "        return num1 - num2\n",
    "    elif operation == \"multiply\":\n",
    "        return num1 * num2\n",
    "    elif operation == \"divide\":\n",
    "        if num2 != 0:\n",
    "            return num1 / num2\n",
    "        else:\n",
    "            return \"Cannot divide by zero\"\n",
    "    else:\n",
    "        return \"Invalid operation\"\n",
    "\n",
    "choice = input(\"Enter your Choice (add, subtract, multiply, divide): \")\n",
    "num1 = int(input(\"Enter Number One: \"))\n",
    "num2 = int(input(\"Enter Number two: \"))\n",
    "\n",
    "result = Oper(choice, num1, num2)\n",
    "print(\"Result:\", result)"
   ]
  },
  {
   "cell_type": "code",
   "execution_count": 5,
   "metadata": {},
   "outputs": [
    {
     "name": "stdout",
     "output_type": "stream",
     "text": [
      "burhan is not a palindrome\n"
     ]
    }
   ],
   "source": [
    "#Task 5\n",
    "\n",
    "def is_palindrome(string):\n",
    "    string = string.replace(\" \", \"\").lower()\n",
    "    return string == string[::-1]\n",
    "\n",
    "input_str = input(\"Enter a string: \")\n",
    "if is_palindrome(input_str):\n",
    "    print(input_str, \"is a palindrome\")\n",
    "else:\n",
    "    print(input_str, \"is not a palindrome\")"
   ]
  },
  {
   "cell_type": "code",
   "execution_count": 9,
   "metadata": {},
   "outputs": [
    {
     "name": "stdout",
     "output_type": "stream",
     "text": [
      "The factorial of 6 is 720\n"
     ]
    }
   ],
   "source": [
    "#Task 6\n",
    "\n",
    "def cal_factorial(num):\n",
    "    if(num==0):\n",
    "        return 1\n",
    "    else:\n",
    "        return num * cal_factorial(num-1)\n",
    "\n",
    "number = int(input(\"Enter a number: \"))\n",
    "if number < 0:\n",
    "    print(\"Factorial of negative numbers cannot be calculated!!\")\n",
    "else:\n",
    "    result = cal_factorial(number)\n",
    "    print(f\"The factorial of {number} is {result}\")\n"
   ]
  },
  {
   "cell_type": "code",
   "execution_count": 14,
   "metadata": {},
   "outputs": [
    {
     "name": "stdout",
     "output_type": "stream",
     "text": [
      "1\t1\n",
      "3\t3\n",
      "5\t5\n",
      "7\t7\n",
      "9\t9\n",
      "True\n"
     ]
    }
   ],
   "source": [
    "#Task 7\n",
    "\n",
    "def printCompare(l1, l2):\n",
    "    max_length = max(len(l1), len(l2))\n",
    "    l1 += [None] * (max_length - len(l1))\n",
    "    l2 += [None] * (max_length - len(l2))\n",
    "    for i1, i2 in zip(l1, l2):\n",
    "        print(f\"{i1}\\t{i2}\")\n",
    "    return l1 == l2\n",
    "\n",
    "List1=[1,3,5,7,9]\n",
    "List2=[1,3,5,7,9]\n",
    "ans=printCompare(List1,List2)\n",
    "print(ans)"
   ]
  },
  {
   "cell_type": "code",
   "execution_count": 45,
   "metadata": {},
   "outputs": [
    {
     "name": "stdout",
     "output_type": "stream",
     "text": [
      "Set 1: {'c', 'b', 'a', 'e', 'd'}\n",
      "Set 2: {1, 2, 3}\n",
      "Is Superset:  False\n"
     ]
    }
   ],
   "source": [
    "#Task 8\n",
    "def super_set(superset, subset):\n",
    "    return superset.issuperset(subset) and superset.issuperset(superset)\n",
    "\n",
    "set1 = {'a','b','c','d','e'}\n",
    "set2 = {1,2,3}\n",
    "\n",
    "result = super_set(set1, set2)\n",
    "\n",
    "\n",
    "print(\"Set 1:\", set1)\n",
    "print(\"Set 2:\", set2)\n",
    "print(\"Is Superset: \",result)"
   ]
  },
  {
   "cell_type": "code",
   "execution_count": 17,
   "metadata": {},
   "outputs": [
    {
     "name": "stdout",
     "output_type": "stream",
     "text": [
      "Reversed String :  nahrub si eman ym\n"
     ]
    }
   ],
   "source": [
    "#reversing a string\n",
    "def reverse(string):\n",
    "    return string[::-1]\n",
    "\n",
    "userstring=str(input(\"Enter a string\"))\n",
    "reversed=reverse(userstring)\n",
    "print(\"Reversed String : \",reversed)\n"
   ]
  },
  {
   "cell_type": "code",
   "execution_count": 19,
   "metadata": {},
   "outputs": [
    {
     "name": "stdout",
     "output_type": "stream",
     "text": [
      "Square root of 4 :  2\n",
      "Square root of 15 :  3\n"
     ]
    }
   ],
   "source": [
    "def sqrt(x):\n",
    "    # Handle special cases\n",
    "    if x == 0 or x == 1:\n",
    "        return x\n",
    "    \n",
    "    # Binary search\n",
    "    left, right = 1, x\n",
    "    while left <= right:\n",
    "        mid = (left + right) // 2\n",
    "        square = mid * mid\n",
    "        \n",
    "        if square == x:\n",
    "            return mid\n",
    "        elif square < x:\n",
    "            left = mid + 1\n",
    "        else:\n",
    "            right = mid - 1\n",
    "    \n",
    "    # Return the integer part of the result\n",
    "    return right\n",
    "\n",
    "# Example usage\n",
    "print(\"Square root of 4 : \",sqrt(4))  # Output: 2\n",
    "print(\"Square root of 15 : \",sqrt(15))  # Output: 2\n"
   ]
  }
 ],
 "metadata": {
  "kernelspec": {
   "display_name": "Python 3",
   "language": "python",
   "name": "python3"
  },
  "language_info": {
   "codemirror_mode": {
    "name": "ipython",
    "version": 3
   },
   "file_extension": ".py",
   "mimetype": "text/x-python",
   "name": "python",
   "nbconvert_exporter": "python",
   "pygments_lexer": "ipython3",
   "version": "3.12.1"
  }
 },
 "nbformat": 4,
 "nbformat_minor": 2
}
